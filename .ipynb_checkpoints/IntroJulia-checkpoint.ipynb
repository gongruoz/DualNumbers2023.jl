{
 "cells": [
  {
   "cell_type": "markdown",
   "id": "organizational-juice",
   "metadata": {},
   "source": [
    "### Intro to Julia"
   ]
  },
  {
   "cell_type": "code",
   "execution_count": 1,
   "id": "detected-austria",
   "metadata": {},
   "outputs": [
    {
     "data": {
      "text/plain": [
       "5"
      ]
     },
     "execution_count": 1,
     "metadata": {},
     "output_type": "execute_result"
    }
   ],
   "source": [
    "2+3"
   ]
  },
  {
   "cell_type": "code",
   "execution_count": 2,
   "id": "reliable-circulation",
   "metadata": {},
   "outputs": [
    {
     "data": {
      "text/plain": [
       "String"
      ]
     },
     "execution_count": 2,
     "metadata": {},
     "output_type": "execute_result"
    }
   ],
   "source": [
    "typeof(\"Hello\")\n"
   ]
  },
  {
   "cell_type": "code",
   "execution_count": 4,
   "id": "automatic-engineering",
   "metadata": {},
   "outputs": [
    {
     "data": {
      "text/plain": [
       "10-element BitVector:\n",
       " 0\n",
       " 0\n",
       " 0\n",
       " 0\n",
       " 0\n",
       " 0\n",
       " 0\n",
       " 0\n",
       " 0\n",
       " 0"
      ]
     },
     "execution_count": 4,
     "metadata": {},
     "output_type": "execute_result"
    }
   ],
   "source": [
    "falses(10)"
   ]
  },
  {
   "cell_type": "code",
   "execution_count": 5,
   "id": "egyptian-minister",
   "metadata": {},
   "outputs": [
    {
     "data": {
      "text/plain": [
       "2×3 Matrix{Float64}:\n",
       " 4.0  4.0  4.0\n",
       " 4.0  4.0  4.0"
      ]
     },
     "execution_count": 5,
     "metadata": {},
     "output_type": "execute_result"
    }
   ],
   "source": [
    "fill(4.0, 2,3)"
   ]
  },
  {
   "cell_type": "code",
   "execution_count": 6,
   "id": "continuous-money",
   "metadata": {},
   "outputs": [
    {
     "data": {
      "text/plain": [
       "2×3 Matrix{Int64}:\n",
       " 2  3  4\n",
       " 3  4  5"
      ]
     },
     "execution_count": 6,
     "metadata": {},
     "output_type": "execute_result"
    }
   ],
   "source": [
    "[row+col for row in 1:2, col in 1:3]"
   ]
  },
  {
   "cell_type": "code",
   "execution_count": 8,
   "id": "wireless-familiar",
   "metadata": {},
   "outputs": [
    {
     "data": {
      "text/plain": [
       "2"
      ]
     },
     "execution_count": 8,
     "metadata": {},
     "output_type": "execute_result"
    }
   ],
   "source": [
    "a=[1,2,3,4]\n",
    "a[2]\n",
    "# index starts from 1"
   ]
  },
  {
   "cell_type": "code",
   "execution_count": 9,
   "id": "elegant-crown",
   "metadata": {},
   "outputs": [
    {
     "data": {
      "text/plain": [
       "3-element Vector{Int64}:\n",
       " 1\n",
       " 2\n",
       " 3"
      ]
     },
     "execution_count": 9,
     "metadata": {},
     "output_type": "execute_result"
    }
   ],
   "source": [
    "a[1:3]"
   ]
  },
  {
   "cell_type": "code",
   "execution_count": 10,
   "id": "raising-italic",
   "metadata": {},
   "outputs": [
    {
     "data": {
      "text/plain": [
       "5-element Vector{Int64}:\n",
       "  1\n",
       "  2\n",
       "  3\n",
       "  4\n",
       " 17"
      ]
     },
     "execution_count": 10,
     "metadata": {},
     "output_type": "execute_result"
    }
   ],
   "source": [
    "push!(a, 17)"
   ]
  },
  {
   "cell_type": "code",
   "execution_count": 13,
   "id": "loved-cincinnati",
   "metadata": {},
   "outputs": [
    {
     "data": {
      "text/plain": [
       "17"
      ]
     },
     "execution_count": 13,
     "metadata": {},
     "output_type": "execute_result"
    }
   ],
   "source": [
    "pop!(a)"
   ]
  },
  {
   "cell_type": "code",
   "execution_count": 14,
   "id": "modern-sympathy",
   "metadata": {},
   "outputs": [
    {
     "data": {
      "text/plain": [
       "4-element Vector{Int64}:\n",
       " 1\n",
       " 2\n",
       " 3\n",
       " 4"
      ]
     },
     "execution_count": 14,
     "metadata": {},
     "output_type": "execute_result"
    }
   ],
   "source": [
    "a"
   ]
  },
  {
   "cell_type": "code",
   "execution_count": 16,
   "id": "parallel-carbon",
   "metadata": {},
   "outputs": [
    {
     "data": {
      "text/plain": [
       "7-element Vector{Int64}:\n",
       "  1\n",
       "  2\n",
       "  3\n",
       "  4\n",
       " 17\n",
       " 18\n",
       " 19"
      ]
     },
     "execution_count": 16,
     "metadata": {},
     "output_type": "execute_result"
    }
   ],
   "source": [
    "append!(a, [17,18,19])"
   ]
  },
  {
   "cell_type": "code",
   "execution_count": 17,
   "id": "rising-foundation",
   "metadata": {},
   "outputs": [
    {
     "data": {
      "text/plain": [
       "2-element Vector{Int64}:\n",
       " 4\n",
       " 6"
      ]
     },
     "execution_count": 17,
     "metadata": {},
     "output_type": "execute_result"
    }
   ],
   "source": [
    "[1,2]+[3,4]"
   ]
  },
  {
   "cell_type": "code",
   "execution_count": 18,
   "id": "combined-consciousness",
   "metadata": {},
   "outputs": [
    {
     "data": {
      "text/plain": [
       "2-element Vector{Int64}:\n",
       " 6\n",
       " 8"
      ]
     },
     "execution_count": 18,
     "metadata": {},
     "output_type": "execute_result"
    }
   ],
   "source": [
    "2*[3,4]"
   ]
  },
  {
   "cell_type": "code",
   "execution_count": 19,
   "id": "endless-stanford",
   "metadata": {},
   "outputs": [
    {
     "data": {
      "text/plain": [
       "2-element Vector{Int64}:\n",
       "  8\n",
       " 15"
      ]
     },
     "execution_count": 19,
     "metadata": {},
     "output_type": "execute_result"
    }
   ],
   "source": [
    "# elementwise multiplication\n",
    "[2,3] .* [4,5]"
   ]
  },
  {
   "cell_type": "code",
   "execution_count": 21,
   "id": "surprised-russell",
   "metadata": {},
   "outputs": [
    {
     "data": {
      "text/plain": [
       "10-element Vector{Float64}:\n",
       "  1.0\n",
       "  2.0\n",
       "  3.0\n",
       "  4.0\n",
       "  5.0\n",
       "  6.0\n",
       "  7.0\n",
       "  8.0\n",
       "  9.0\n",
       " 10.0"
      ]
     },
     "execution_count": 21,
     "metadata": {},
     "output_type": "execute_result"
    }
   ],
   "source": [
    "a = zeros(10)\n",
    "for i in 1:10\n",
    "    a[i]=i\n",
    "end\n",
    "a"
   ]
  },
  {
   "cell_type": "code",
   "execution_count": 25,
   "id": "eleven-athens",
   "metadata": {},
   "outputs": [
    {
     "data": {
      "text/plain": [
       "10-element Vector{Float64}:\n",
       "  3.0\n",
       "  1.0\n",
       "  7.0\n",
       "  2.0\n",
       " 11.0\n",
       "  3.0\n",
       " 15.0\n",
       "  4.0\n",
       " 19.0\n",
       "  5.0"
      ]
     },
     "execution_count": 25,
     "metadata": {},
     "output_type": "execute_result"
    }
   ],
   "source": [
    "for i in 1:10\n",
    "    if isodd(a[i])\n",
    "        a[i]=2*a[i]+1\n",
    "    else\n",
    "        a[i] /= 2\n",
    "    end\n",
    "end\n",
    "a"
   ]
  },
  {
   "cell_type": "code",
   "execution_count": 26,
   "id": "imperial-banks",
   "metadata": {},
   "outputs": [
    {
     "data": {
      "text/plain": [
       "3-element Vector{Float64}:\n",
       " 1.0\n",
       " 2.0\n",
       " 3.0"
      ]
     },
     "execution_count": 26,
     "metadata": {},
     "output_type": "execute_result"
    }
   ],
   "source": [
    "ai = Int[1,2,3]\n",
    "af = Float64[1,2,3]"
   ]
  },
  {
   "cell_type": "code",
   "execution_count": 30,
   "id": "crucial-bibliography",
   "metadata": {},
   "outputs": [
    {
     "data": {
      "text/plain": [
       "\"three\""
      ]
     },
     "execution_count": 30,
     "metadata": {},
     "output_type": "execute_result"
    }
   ],
   "source": [
    "aa = Any[1,2,3]\n",
    "af[1] = 2.5\n",
    "aa[3] = \"three\"\n",
    "# julia makes the distinction of different types of arrays"
   ]
  },
  {
   "cell_type": "code",
   "execution_count": 31,
   "id": "becoming-congo",
   "metadata": {},
   "outputs": [
    {
     "data": {
      "text/plain": [
       "3-element Vector{Any}:\n",
       " 1\n",
       " 2\n",
       "  \"three\""
      ]
     },
     "execution_count": 31,
     "metadata": {},
     "output_type": "execute_result"
    }
   ],
   "source": [
    "aa"
   ]
  },
  {
   "cell_type": "markdown",
   "id": "incoming-hungarian",
   "metadata": {},
   "source": [
    "#### Functions in Julia"
   ]
  },
  {
   "cell_type": "code",
   "execution_count": 37,
   "id": "dense-technique",
   "metadata": {},
   "outputs": [
    {
     "name": "stdout",
     "output_type": "stream",
     "text": [
      "triple: (3, 4, 5)\n"
     ]
    }
   ],
   "source": [
    "i = 3\n",
    "j = 4\n",
    "k = 5\n",
    "\n",
    "if i^2 + j^2 == k^2\n",
    "    println(\"triple: ($i, $j, $k)\")\n",
    "end"
   ]
  },
  {
   "cell_type": "code",
   "execution_count": 38,
   "id": "rolled-semester",
   "metadata": {},
   "outputs": [
    {
     "name": "stdout",
     "output_type": "stream",
     "text": [
      "triple: (3, 4, 5)\n",
      "triple: (4, 3, 5)\n",
      "triple: (6, 8, 10)\n",
      "triple: (8, 6, 10)\n"
     ]
    }
   ],
   "source": [
    "for i in 1:10, j in 1:10, k in 1:10\n",
    "    if i^2 + j^2 == k^2\n",
    "        println(\"triple: ($i, $j, $k)\")\n",
    "    end\n",
    "end"
   ]
  },
  {
   "cell_type": "code",
   "execution_count": 41,
   "id": "noticed-official",
   "metadata": {},
   "outputs": [
    {
     "data": {
      "text/plain": [
       "1762"
      ]
     },
     "execution_count": 41,
     "metadata": {},
     "output_type": "execute_result"
    }
   ],
   "source": [
    "ntriples = 0\n",
    "for i in 1:1000, j in 1:1000, k in 1:1000\n",
    "    if i^2 + j^2 == k^2\n",
    "        ntriples += 1\n",
    "    end\n",
    "end\n",
    "ntriples"
   ]
  },
  {
   "cell_type": "code",
   "execution_count": 45,
   "id": "previous-grocery",
   "metadata": {},
   "outputs": [
    {
     "data": {
      "text/plain": [
       "is_pythagorean_triple (generic function with 1 method)"
      ]
     },
     "execution_count": 45,
     "metadata": {},
     "output_type": "execute_result"
    }
   ],
   "source": [
    "function is_pythagorean_triple(i, j, k) # takes three arguments\n",
    "    return i^2 + j^2 == k^2 # returns a boolean\n",
    "end"
   ]
  },
  {
   "cell_type": "code",
   "execution_count": 47,
   "id": "addressed-folks",
   "metadata": {},
   "outputs": [
    {
     "data": {
      "text/plain": [
       "104"
      ]
     },
     "execution_count": 47,
     "metadata": {},
     "output_type": "execute_result"
    }
   ],
   "source": [
    "ntriples = 0\n",
    "for i in 1:100, j in 1:100, k in 1:100\n",
    "    if is_pythagorean_triple(i, j, k)\n",
    "        ntriples += 1\n",
    "    end\n",
    "end\n",
    "ntriples"
   ]
  },
  {
   "cell_type": "code",
   "execution_count": 52,
   "id": "spoken-stopping",
   "metadata": {},
   "outputs": [
    {
     "data": {
      "text/plain": [
       "count_pythagorean_triples (generic function with 1 method)"
      ]
     },
     "execution_count": 52,
     "metadata": {},
     "output_type": "execute_result"
    }
   ],
   "source": [
    "function count_pythagorean_triples(n)\n",
    "    ntriples = 0\n",
    "    for i in 1:n, j in 1:n, k in 1:n\n",
    "        if is_pythagorean_triple(i, j, k)\n",
    "            ntriples += 1\n",
    "        end # ends the if\n",
    "    end # ends the forloop\n",
    "    return ntriples\n",
    "end # ends the function"
   ]
  },
  {
   "cell_type": "code",
   "execution_count": 53,
   "id": "characteristic-bahamas",
   "metadata": {},
   "outputs": [
    {
     "data": {
      "text/plain": [
       "1762"
      ]
     },
     "execution_count": 53,
     "metadata": {},
     "output_type": "execute_result"
    }
   ],
   "source": [
    "count_pythagorean_triples(1000)"
   ]
  },
  {
   "cell_type": "code",
   "execution_count": 57,
   "id": "current-chuck",
   "metadata": {},
   "outputs": [
    {
     "name": "stdout",
     "output_type": "stream",
     "text": [
      "\t\u001b[0m.text\n",
      "\t\u001b[0m.file\t\u001b[0m\"is_pythagorean_triple\"\n",
      "\t\u001b[0m.globl\t\u001b[0mjulia_is_pythagorean_triple_2612 \u001b[90m# -- Begin function julia_is_pythagorean_triple_2612\u001b[39m\n",
      "\t\u001b[0m.p2align\t\u001b[33m4\u001b[39m\u001b[0m, \u001b[33m0x90\u001b[39m\n",
      "\t\u001b[0m.type\t\u001b[0mjulia_is_pythagorean_triple_2612\u001b[0m,\u001b[0m@function\n",
      "\u001b[91mjulia_is_pythagorean_triple_2612:\u001b[39m       \u001b[90m# @julia_is_pythagorean_triple_2612\u001b[39m\n",
      "\u001b[90m; ┌ @ In[45]:1 within `is_pythagorean_triple`\u001b[39m\n",
      "\t\u001b[0m.cfi_startproc\n",
      "\u001b[90m# %bb.0:                                # %top\u001b[39m\n",
      "\u001b[90m; │ @ In[45]:2 within `is_pythagorean_triple`\u001b[39m\n",
      "\u001b[90m; │┌ @ intfuncs.jl:321 within `literal_pow`\u001b[39m\n",
      "\u001b[90m; ││┌ @ int.jl:88 within `*`\u001b[39m\n",
      "\t\u001b[96m\u001b[1mimulq\u001b[22m\u001b[39m\t\u001b[0m%rdi\u001b[0m, \u001b[0m%rdi\n",
      "\t\u001b[96m\u001b[1mimulq\u001b[22m\u001b[39m\t\u001b[0m%rsi\u001b[0m, \u001b[0m%rsi\n",
      "\u001b[90m; │└└\u001b[39m\n",
      "\u001b[90m; │┌ @ int.jl:87 within `+`\u001b[39m\n",
      "\t\u001b[96m\u001b[1maddq\u001b[22m\u001b[39m\t\u001b[0m%rdi\u001b[0m, \u001b[0m%rsi\n",
      "\u001b[90m; │└\u001b[39m\n",
      "\u001b[90m; │┌ @ intfuncs.jl:321 within `literal_pow`\u001b[39m\n",
      "\u001b[90m; ││┌ @ int.jl:88 within `*`\u001b[39m\n",
      "\t\u001b[96m\u001b[1mimulq\u001b[22m\u001b[39m\t\u001b[0m%rdx\u001b[0m, \u001b[0m%rdx\n",
      "\u001b[90m; │└└\u001b[39m\n",
      "\u001b[90m; │┌ @ promotion.jl:477 within `==`\u001b[39m\n",
      "\t\u001b[96m\u001b[1mcmpq\u001b[22m\u001b[39m\t\u001b[0m%rdx\u001b[0m, \u001b[0m%rsi\n",
      "\t\u001b[96m\u001b[1msete\u001b[22m\u001b[39m\t\u001b[0m%al\n",
      "\u001b[90m; │└\u001b[39m\n",
      "\t\u001b[96m\u001b[1mretq\u001b[22m\u001b[39m\n",
      "\u001b[91m.Lfunc_end0:\u001b[39m\n",
      "\t\u001b[0m.size\t\u001b[0mjulia_is_pythagorean_triple_2612\u001b[0m, \u001b[0m.Lfunc_end0-julia_is_pythagorean_triple_2612\n",
      "\t\u001b[0m.cfi_endproc\n",
      "\u001b[90m; └\u001b[39m\n",
      "                                        \u001b[90m# -- End function\u001b[39m\n",
      "\t\u001b[0m.section\t\u001b[0m\".note.GNU-stack\"\u001b[0m,\u001b[0m\"\"\u001b[0m,\u001b[0m@progbits\n"
     ]
    }
   ],
   "source": [
    "@code_native is_pythagorean_triple(1,2,3) # showing machine code"
   ]
  },
  {
   "cell_type": "code",
   "execution_count": 60,
   "id": "major-contractor",
   "metadata": {},
   "outputs": [
    {
     "data": {
      "text/plain": [
       "add1 (generic function with 1 method)"
      ]
     },
     "execution_count": 60,
     "metadata": {},
     "output_type": "execute_result"
    }
   ],
   "source": [
    "function add1(a)\n",
    "    for i in 1:length(a)\n",
    "        a[i] += 1\n",
    "    end\n",
    "end"
   ]
  },
  {
   "cell_type": "code",
   "execution_count": 61,
   "id": "great-renewal",
   "metadata": {},
   "outputs": [
    {
     "data": {
      "text/plain": [
       "3-element Vector{Int64}:\n",
       " 2\n",
       " 3\n",
       " 4"
      ]
     },
     "execution_count": 61,
     "metadata": {},
     "output_type": "execute_result"
    }
   ],
   "source": [
    "a = [1,2,3]\n",
    "add1(a)\n",
    "a"
   ]
  },
  {
   "cell_type": "markdown",
   "id": "female-centre",
   "metadata": {},
   "source": [
    "#### Visualization"
   ]
  },
  {
   "cell_type": "code",
   "execution_count": 62,
   "id": "exterior-modern",
   "metadata": {},
   "outputs": [
    {
     "name": "stderr",
     "output_type": "stream",
     "text": [
      "\u001b[32m\u001b[1m    Updating\u001b[22m\u001b[39m registry at `~/.julia/registries/General.toml`\n",
      "\u001b[32m\u001b[1m   Resolving\u001b[22m\u001b[39m package versions...\n",
      "\u001b[32m\u001b[1m   Installed\u001b[22m\u001b[39m JpegTurbo_jll ─────────────── v2.1.2+0\n",
      "\u001b[32m\u001b[1m   Installed\u001b[22m\u001b[39m Calculus ──────────────────── v0.5.1\n",
      "\u001b[32m\u001b[1m   Installed\u001b[22m\u001b[39m x265_jll ──────────────────── v3.5.0+0\n",
      "\u001b[32m\u001b[1m   Installed\u001b[22m\u001b[39m libfdk_aac_jll ────────────── v2.0.2+0\n",
      "\u001b[32m\u001b[1m   Installed\u001b[22m\u001b[39m AxisArrays ────────────────── v0.4.6\n",
      "\u001b[32m\u001b[1m   Installed\u001b[22m\u001b[39m ImageIO ───────────────────── v0.6.6\n",
      "\u001b[32m\u001b[1m   Installed\u001b[22m\u001b[39m TiffImages ────────────────── v0.6.3\n",
      "\u001b[32m\u001b[1m   Installed\u001b[22m\u001b[39m Libmount_jll ──────────────── v2.35.0+0\n",
      "\u001b[32m\u001b[1m   Installed\u001b[22m\u001b[39m HypergeometricFunctions ───── v0.3.11\n",
      "\u001b[32m\u001b[1m   Installed\u001b[22m\u001b[39m LERC_jll ──────────────────── v3.0.0+1\n",
      "\u001b[32m\u001b[1m   Installed\u001b[22m\u001b[39m JpegTurbo ─────────────────── v0.1.1\n",
      "\u001b[32m\u001b[1m   Installed\u001b[22m\u001b[39m WGLMakie ──────────────────── v0.8.5\n",
      "\u001b[32m\u001b[1m   Installed\u001b[22m\u001b[39m StatsFuns ─────────────────── v1.1.1\n",
      "\u001b[32m\u001b[1m   Installed\u001b[22m\u001b[39m PNGFiles ──────────────────── v0.3.17\n",
      "\u001b[32m\u001b[1m   Installed\u001b[22m\u001b[39m FFTW ──────────────────────── v1.5.0\n",
      "\u001b[32m\u001b[1m   Installed\u001b[22m\u001b[39m OffsetArrays ──────────────── v1.12.8\n",
      "\u001b[32m\u001b[1m   Installed\u001b[22m\u001b[39m ImageMagick ───────────────── v1.2.1\n",
      "\u001b[32m\u001b[1m   Installed\u001b[22m\u001b[39m LoggingExtras ─────────────── v1.0.0\n",
      "\u001b[32m\u001b[1m   Installed\u001b[22m\u001b[39m Opus_jll ──────────────────── v1.3.2+0\n",
      "\u001b[32m\u001b[1m   Installed\u001b[22m\u001b[39m Hyperscript ───────────────── v0.0.4\n",
      "\u001b[32m\u001b[1m   Installed\u001b[22m\u001b[39m StableHashTraits ──────────── v0.3.1\n",
      "\u001b[32m\u001b[1m   Installed\u001b[22m\u001b[39m RelocatableFolders ────────── v1.0.0\n",
      "\u001b[32m\u001b[1m   Installed\u001b[22m\u001b[39m Sixel ─────────────────────── v0.1.2\n",
      "\u001b[32m\u001b[1m   Installed\u001b[22m\u001b[39m PDMats ────────────────────── v0.11.16\n",
      "\u001b[32m\u001b[1m   Installed\u001b[22m\u001b[39m Contour ───────────────────── v0.6.2\n",
      "\u001b[32m\u001b[1m   Installed\u001b[22m\u001b[39m EarCut_jll ────────────────── v2.2.4+0\n",
      "\u001b[32m\u001b[1m   Installed\u001b[22m\u001b[39m Grisu ─────────────────────── v1.0.2\n",
      "\u001b[32m\u001b[1m   Installed\u001b[22m\u001b[39m ProgressMeter ─────────────── v1.7.2\n",
      "\u001b[32m\u001b[1m   Installed\u001b[22m\u001b[39m OpenEXR ───────────────────── v0.3.2\n",
      "\u001b[32m\u001b[1m   Installed\u001b[22m\u001b[39m Qhull_jll ─────────────────── v8.0.1001+0\n",
      "\u001b[32m\u001b[1m   Installed\u001b[22m\u001b[39m Formatting ────────────────── v0.4.2\n",
      "\u001b[32m\u001b[1m   Installed\u001b[22m\u001b[39m MiniQhull ─────────────────── v0.4.0\n",
      "\u001b[32m\u001b[1m   Installed\u001b[22m\u001b[39m PlotUtils ─────────────────── v1.3.2\n",
      "\u001b[32m\u001b[1m   Installed\u001b[22m\u001b[39m OpenSSL ───────────────────── v1.3.2\n",
      "\u001b[32m\u001b[1m   Installed\u001b[22m\u001b[39m Xorg_libpthread_stubs_jll ─── v0.1.0+3\n",
      "\u001b[32m\u001b[1m   Installed\u001b[22m\u001b[39m StaticArrays ──────────────── v1.5.12\n",
      "\u001b[32m\u001b[1m   Installed\u001b[22m\u001b[39m FileIO ────────────────────── v1.16.0\n",
      "\u001b[32m\u001b[1m   Installed\u001b[22m\u001b[39m Libgpg_error_jll ──────────── v1.42.0+0\n",
      "\u001b[32m\u001b[1m   Installed\u001b[22m\u001b[39m Cairo_jll ─────────────────── v1.16.1+1\n",
      "\u001b[32m\u001b[1m   Installed\u001b[22m\u001b[39m Fontconfig_jll ────────────── v2.13.93+0\n",
      "\u001b[32m\u001b[1m   Installed\u001b[22m\u001b[39m IntelOpenMP_jll ───────────── v2018.0.3+2\n",
      "\u001b[32m\u001b[1m   Installed\u001b[22m\u001b[39m Netpbm ────────────────────── v1.1.0\n",
      "\u001b[32m\u001b[1m   Installed\u001b[22m\u001b[39m HTTP ──────────────────────── v1.6.3\n",
      "\u001b[32m\u001b[1m   Installed\u001b[22m\u001b[39m SignedDistanceFields ──────── v0.4.0\n",
      "\u001b[32m\u001b[1m   Installed\u001b[22m\u001b[39m Xorg_libXau_jll ───────────── v1.0.9+4\n",
      "\u001b[32m\u001b[1m   Installed\u001b[22m\u001b[39m QhullMiniWrapper_jll ──────── v1.0.0+1\n",
      "\u001b[32m\u001b[1m   Installed\u001b[22m\u001b[39m CEnum ─────────────────────── v0.4.2\n",
      "\u001b[32m\u001b[1m   Installed\u001b[22m\u001b[39m Missings ──────────────────── v1.1.0\n",
      "\u001b[32m\u001b[1m   Installed\u001b[22m\u001b[39m FFMPEG ────────────────────── v0.4.1\n",
      "\u001b[32m\u001b[1m   Installed\u001b[22m\u001b[39m TupleTools ────────────────── v1.3.0\n",
      "\u001b[32m\u001b[1m   Installed\u001b[22m\u001b[39m TriplotBase ───────────────── v0.1.0\n",
      "\u001b[32m\u001b[1m   Installed\u001b[22m\u001b[39m SIMD ──────────────────────── v3.4.3\n",
      "\u001b[32m\u001b[1m   Installed\u001b[22m\u001b[39m IrrationalConstants ───────── v0.1.1\n",
      "\u001b[32m\u001b[1m   Installed\u001b[22m\u001b[39m Showoff ───────────────────── v1.0.3\n",
      "\u001b[32m\u001b[1m   Installed\u001b[22m\u001b[39m ScanByte ──────────────────── v0.3.3\n",
      "\u001b[32m\u001b[1m   Installed\u001b[22m\u001b[39m ColorSchemes ──────────────── v3.20.0\n",
      "\u001b[32m\u001b[1m   Installed\u001b[22m\u001b[39m Bzip2_jll ─────────────────── v1.0.8+0\n",
      "\u001b[32m\u001b[1m   Installed\u001b[22m\u001b[39m SpecialFunctions ──────────── v2.1.7\n",
      "\u001b[32m\u001b[1m   Installed\u001b[22m\u001b[39m QOI ───────────────────────── v1.0.0\n",
      "\u001b[32m\u001b[1m   Installed\u001b[22m\u001b[39m SimpleBufferStream ────────── v1.1.0\n",
      "\u001b[32m\u001b[1m   Installed\u001b[22m\u001b[39m PolygonOps ────────────────── v0.1.2\n",
      "\u001b[32m\u001b[1m   Installed\u001b[22m\u001b[39m HarfBuzz_jll ──────────────── v2.8.1+1\n",
      "\u001b[32m\u001b[1m   Installed\u001b[22m\u001b[39m isoband_jll ───────────────── v0.2.3+0\n",
      "\u001b[32m\u001b[1m   Installed\u001b[22m\u001b[39m PkgVersion ────────────────── v0.3.2\n",
      "\u001b[32m\u001b[1m   Installed\u001b[22m\u001b[39m StaticArraysCore ──────────── v1.4.0\n",
      "\u001b[32m\u001b[1m   Installed\u001b[22m\u001b[39m NaNMath ───────────────────── v1.0.1\n",
      "\u001b[32m\u001b[1m   Installed\u001b[22m\u001b[39m LZO_jll ───────────────────── v2.10.1+0\n",
      "\u001b[32m\u001b[1m   Installed\u001b[22m\u001b[39m MsgPack ───────────────────── v1.1.0\n",
      "\u001b[32m\u001b[1m   Installed\u001b[22m\u001b[39m MathTeXEngine ─────────────── v0.5.4\n",
      "\u001b[32m\u001b[1m   Installed\u001b[22m\u001b[39m FriBidi_jll ───────────────── v1.0.10+0\n",
      "\u001b[32m\u001b[1m   Installed\u001b[22m\u001b[39m TranscodingStreams ────────── v0.9.11\n",
      "\u001b[32m\u001b[1m   Installed\u001b[22m\u001b[39m UnicodeFun ────────────────── v0.4.1\n",
      "\u001b[32m\u001b[1m   Installed\u001b[22m\u001b[39m Rmath_jll ─────────────────── v0.3.0+0\n",
      "\u001b[32m\u001b[1m   Installed\u001b[22m\u001b[39m ImageMetadata ─────────────── v0.9.8\n",
      "\u001b[32m\u001b[1m   Installed\u001b[22m\u001b[39m Graphics ──────────────────── v1.1.2\n",
      "\u001b[32m\u001b[1m   Installed\u001b[22m\u001b[39m Ratios ────────────────────── v0.4.3\n",
      "\u001b[32m\u001b[1m   Installed\u001b[22m\u001b[39m x264_jll ──────────────────── v2021.5.5+0\n",
      "\u001b[32m\u001b[1m   Installed\u001b[22m\u001b[39m FreeType ──────────────────── v4.0.0\n",
      "\u001b[32m\u001b[1m   Installed\u001b[22m\u001b[39m FreeType2_jll ─────────────── v2.10.4+0\n",
      "\u001b[32m\u001b[1m   Installed\u001b[22m\u001b[39m ImageMagick_jll ───────────── v6.9.12+3\n",
      "\u001b[32m\u001b[1m   Installed\u001b[22m\u001b[39m MappedArrays ──────────────── v0.4.1\n",
      "\u001b[32m\u001b[1m   Installed\u001b[22m\u001b[39m DataStructures ────────────── v0.18.13\n",
      "\u001b[32m\u001b[1m   Installed\u001b[22m\u001b[39m Colors ────────────────────── v0.12.10\n",
      "\u001b[32m\u001b[1m   Installed\u001b[22m\u001b[39m PaddedViews ───────────────── v0.5.11\n",
      "\u001b[32m\u001b[1m   Installed\u001b[22m\u001b[39m JSServe ───────────────────── v2.0.6\n",
      "\u001b[32m\u001b[1m   Installed\u001b[22m\u001b[39m StatsAPI ──────────────────── v1.5.0\n",
      "\u001b[32m\u001b[1m   Installed\u001b[22m\u001b[39m Compat ────────────────────── v4.5.0\n",
      "\u001b[32m\u001b[1m   Installed\u001b[22m\u001b[39m GridLayoutBase ────────────── v0.9.1\n",
      "\u001b[32m\u001b[1m   Installed\u001b[22m\u001b[39m CodecZlib ─────────────────── v0.7.0\n",
      "\u001b[32m\u001b[1m   Installed\u001b[22m\u001b[39m Xorg_libxcb_jll ───────────── v1.13.0+3\n",
      "\u001b[32m\u001b[1m   Installed\u001b[22m\u001b[39m LazyModules ───────────────── v0.3.1\n",
      "\u001b[32m\u001b[1m   Installed\u001b[22m\u001b[39m MosaicViews ───────────────── v0.3.4\n",
      "\u001b[32m\u001b[1m   Installed\u001b[22m\u001b[39m libpng_jll ────────────────── v1.6.38+0\n",
      "\u001b[32m\u001b[1m   Installed\u001b[22m\u001b[39m Automa ────────────────────── v0.8.2\n",
      "\u001b[32m\u001b[1m   Installed\u001b[22m\u001b[39m StatsBase ─────────────────── v0.33.21\n",
      "\u001b[32m\u001b[1m   Installed\u001b[22m\u001b[39m libaom_jll ────────────────── v3.4.0+0\n",
      "\u001b[32m\u001b[1m   Installed\u001b[22m\u001b[39m Scratch ───────────────────── v1.1.1\n",
      "\u001b[32m\u001b[1m   Installed\u001b[22m\u001b[39m Zstd_jll ──────────────────── v1.5.2+0\n",
      "\u001b[32m\u001b[1m   Installed\u001b[22m\u001b[39m ColorTypes ────────────────── v0.11.4\n",
      "\u001b[32m\u001b[1m   Installed\u001b[22m\u001b[39m Xorg_libXext_jll ──────────── v1.3.4+4\n",
      "\u001b[32m\u001b[1m   Installed\u001b[22m\u001b[39m Match ─────────────────────── v1.2.0\n",
      "\u001b[32m\u001b[1m   Installed\u001b[22m\u001b[39m TensorCore ────────────────── v0.1.1\n",
      "\u001b[32m\u001b[1m   Installed\u001b[22m\u001b[39m FreeTypeAbstraction ───────── v0.10.0\n",
      "\u001b[32m\u001b[1m   Installed\u001b[22m\u001b[39m TableTraits ───────────────── v1.0.1\n",
      "\u001b[32m\u001b[1m   Installed\u001b[22m\u001b[39m Isoband ───────────────────── v0.1.1\n",
      "\u001b[32m\u001b[1m   Installed\u001b[22m\u001b[39m Expat_jll ─────────────────── v2.4.8+0\n",
      "\u001b[32m\u001b[1m   Installed\u001b[22m\u001b[39m Inflate ───────────────────── v0.1.3\n",
      "\u001b[32m\u001b[1m   Installed\u001b[22m\u001b[39m Extents ───────────────────── v0.1.1\n",
      "\u001b[32m\u001b[1m   Installed\u001b[22m\u001b[39m Imath_jll ─────────────────── v3.1.2+0\n",
      "\u001b[32m\u001b[1m   Installed\u001b[22m\u001b[39m Setfield ──────────────────── v1.1.1\n",
      "\u001b[32m\u001b[1m   Installed\u001b[22m\u001b[39m MKL_jll ───────────────────── v2022.2.0+0\n",
      "\u001b[32m\u001b[1m   Installed\u001b[22m\u001b[39m Libtiff_jll ───────────────── v4.4.0+0\n",
      "\u001b[32m\u001b[1m   Installed\u001b[22m\u001b[39m Packing ───────────────────── v0.5.0\n",
      "\u001b[32m\u001b[1m   Installed\u001b[22m\u001b[39m ColorVectorSpace ──────────── v0.9.10\n",
      "\u001b[32m\u001b[1m   Installed\u001b[22m\u001b[39m AbstractFFTs ──────────────── v1.2.1\n",
      "\u001b[32m\u001b[1m   Installed\u001b[22m\u001b[39m ConstructionBase ──────────── v1.4.1\n",
      "\u001b[32m\u001b[1m   Installed\u001b[22m\u001b[39m Animations ────────────────── v0.4.1\n",
      "\u001b[32m\u001b[1m   Installed\u001b[22m\u001b[39m DataValueInterfaces ───────── v1.0.0\n",
      "\u001b[32m\u001b[1m   Installed\u001b[22m\u001b[39m Libffi_jll ────────────────── v3.2.2+1\n",
      "\u001b[32m\u001b[1m   Installed\u001b[22m\u001b[39m Xorg_libXrender_jll ───────── v0.9.10+4\n",
      "\u001b[32m\u001b[1m   Installed\u001b[22m\u001b[39m OrderedCollections ────────── v1.4.1\n",
      "\u001b[32m\u001b[1m   Installed\u001b[22m\u001b[39m AbstractTrees ─────────────── v0.4.3\n",
      "\u001b[32m\u001b[1m   Installed\u001b[22m\u001b[39m ImageCore ─────────────────── v0.9.4\n",
      "\u001b[32m\u001b[1m   Installed\u001b[22m\u001b[39m ChainRulesCore ────────────── v1.15.6\n",
      "\u001b[32m\u001b[1m   Installed\u001b[22m\u001b[39m XSLT_jll ──────────────────── v1.1.34+0\n",
      "\u001b[32m\u001b[1m   Installed\u001b[22m\u001b[39m Ogg_jll ───────────────────── v1.3.5+1\n",
      "\u001b[32m\u001b[1m   Installed\u001b[22m\u001b[39m Ghostscript_jll ───────────── v9.55.0+0\n",
      "\u001b[32m\u001b[1m   Installed\u001b[22m\u001b[39m StackViews ────────────────── v0.1.1\n",
      "\u001b[32m\u001b[1m   Installed\u001b[22m\u001b[39m Reexport ──────────────────── v1.2.2\n",
      "\u001b[32m\u001b[1m   Installed\u001b[22m\u001b[39m KernelDensity ─────────────── v0.6.5\n",
      "\u001b[32m\u001b[1m   Installed\u001b[22m\u001b[39m LogExpFunctions ───────────── v0.3.19\n",
      "\u001b[32m\u001b[1m   Installed\u001b[22m\u001b[39m RangeArrays ───────────────── v0.3.2\n",
      "\u001b[32m\u001b[1m   Installed\u001b[22m\u001b[39m MacroTools ────────────────── v0.5.10\n",
      "\u001b[32m\u001b[1m   Installed\u001b[22m\u001b[39m FFTW_jll ──────────────────── v3.3.10+0\n",
      "\u001b[32m\u001b[1m   Installed\u001b[22m\u001b[39m OpenSpecFun_jll ───────────── v0.5.5+0\n",
      "\u001b[32m\u001b[1m   Installed\u001b[22m\u001b[39m Libuuid_jll ───────────────── v2.36.0+0\n",
      "\u001b[32m\u001b[1m   Installed\u001b[22m\u001b[39m InverseFunctions ──────────── v0.1.8\n",
      "\u001b[32m\u001b[1m   Installed\u001b[22m\u001b[39m ColorBrewer ───────────────── v0.4.0\n",
      "\u001b[32m\u001b[1m   Installed\u001b[22m\u001b[39m SimpleTraits ──────────────── v0.9.4\n",
      "\u001b[32m\u001b[1m   Installed\u001b[22m\u001b[39m DocStringExtensions ───────── v0.9.3\n",
      "\u001b[32m\u001b[1m   Installed\u001b[22m\u001b[39m GPUArraysCore ─────────────── v0.1.2\n",
      "\u001b[32m\u001b[1m   Installed\u001b[22m\u001b[39m OpenEXR_jll ───────────────── v3.1.1+0\n",
      "\u001b[32m\u001b[1m   Installed\u001b[22m\u001b[39m Adapt ─────────────────────── v3.4.0\n",
      "\u001b[32m\u001b[1m   Installed\u001b[22m\u001b[39m libass_jll ────────────────── v0.15.1+0\n",
      "\u001b[32m\u001b[1m   Installed\u001b[22m\u001b[39m Graphite2_jll ─────────────── v1.3.14+0\n",
      "\u001b[32m\u001b[1m   Installed\u001b[22m\u001b[39m Pixman_jll ────────────────── v0.40.1+0\n",
      "\u001b[32m\u001b[1m   Installed\u001b[22m\u001b[39m Rmath ─────────────────────── v0.7.0\n",
      "\u001b[32m\u001b[1m   Installed\u001b[22m\u001b[39m XML2_jll ──────────────────── v2.10.3+0\n",
      "\u001b[32m\u001b[1m   Installed\u001b[22m\u001b[39m DualNumbers ───────────────── v0.6.8\n",
      "\u001b[32m\u001b[1m   Installed\u001b[22m\u001b[39m Interpolations ────────────── v0.14.7\n",
      "\u001b[32m\u001b[1m   Installed\u001b[22m\u001b[39m ImageBase ─────────────────── v0.1.5\n",
      "\u001b[32m\u001b[1m   Installed\u001b[22m\u001b[39m Gettext_jll ───────────────── v0.21.0+0\n",
      "\u001b[32m\u001b[1m   Installed\u001b[22m\u001b[39m IntervalSets ──────────────── v0.7.4\n",
      "\u001b[32m\u001b[1m   Installed\u001b[22m\u001b[39m IterTools ─────────────────── v1.4.0\n",
      "\u001b[32m\u001b[1m   Installed\u001b[22m\u001b[39m Xorg_xtrans_jll ───────────── v1.4.0+3\n",
      "\u001b[32m\u001b[1m   Installed\u001b[22m\u001b[39m OpenSSL_jll ───────────────── v1.1.19+0\n",
      "\u001b[32m\u001b[1m   Installed\u001b[22m\u001b[39m BitFlags ──────────────────── v0.1.7\n",
      "\u001b[32m\u001b[1m   Installed\u001b[22m\u001b[39m Deno_jll ──────────────────── v1.28.1+0\n",
      "\u001b[32m\u001b[1m   Installed\u001b[22m\u001b[39m FFMPEG_jll ────────────────── v4.4.2+2\n",
      "\u001b[32m\u001b[1m   Installed\u001b[22m\u001b[39m IndirectArrays ────────────── v1.0.0\n",
      "\u001b[32m\u001b[1m   Installed\u001b[22m\u001b[39m GeometryBasics ────────────── v0.4.5\n",
      "\u001b[32m\u001b[1m   Installed\u001b[22m\u001b[39m Libgcrypt_jll ─────────────── v1.8.7+0\n",
      "\u001b[32m\u001b[1m   Installed\u001b[22m\u001b[39m Tables ────────────────────── v1.10.0\n",
      "\u001b[32m\u001b[1m   Installed\u001b[22m\u001b[39m MakieCore ─────────────────── v0.6.1\n",
      "\u001b[32m\u001b[1m   Installed\u001b[22m\u001b[39m DataAPI ───────────────────── v1.14.0\n",
      "\u001b[32m\u001b[1m   Installed\u001b[22m\u001b[39m ShaderAbstractions ────────── v0.2.9\n",
      "\u001b[32m\u001b[1m   Installed\u001b[22m\u001b[39m FixedPointNumbers ─────────── v0.8.4\n",
      "\u001b[32m\u001b[1m   Installed\u001b[22m\u001b[39m Libiconv_jll ──────────────── v1.16.1+2\n",
      "\u001b[32m\u001b[1m   Installed\u001b[22m\u001b[39m LAME_jll ──────────────────── v3.100.1+0\n",
      "\u001b[32m\u001b[1m   Installed\u001b[22m\u001b[39m IteratorInterfaceExtensions ─ v1.0.0\n",
      "\u001b[32m\u001b[1m   Installed\u001b[22m\u001b[39m IniFile ───────────────────── v0.5.1\n",
      "\u001b[32m\u001b[1m   Installed\u001b[22m\u001b[39m LaTeXStrings ──────────────── v1.3.0\n",
      "\u001b[32m\u001b[1m   Installed\u001b[22m\u001b[39m URIs ──────────────────────── v1.4.1\n",
      "\u001b[32m\u001b[1m   Installed\u001b[22m\u001b[39m StructArrays ──────────────── v0.6.14\n",
      "\u001b[32m\u001b[1m   Installed\u001b[22m\u001b[39m Glib_jll ──────────────────── v2.74.0+2\n",
      "\u001b[32m\u001b[1m   Installed\u001b[22m\u001b[39m libvorbis_jll ─────────────── v1.3.7+1\n",
      "\u001b[32m\u001b[1m   Installed\u001b[22m\u001b[39m libsixel_jll ──────────────── v1.10.3+0\n",
      "\u001b[32m\u001b[1m   Installed\u001b[22m\u001b[39m ImageAxes ─────────────────── v0.6.10\n",
      "\u001b[32m\u001b[1m   Installed\u001b[22m\u001b[39m QuadGK ────────────────────── v2.6.0\n",
      "\u001b[32m\u001b[1m   Installed\u001b[22m\u001b[39m FillArrays ────────────────── v0.13.6\n",
      "\u001b[32m\u001b[1m   Installed\u001b[22m\u001b[39m Xorg_libX11_jll ───────────── v1.6.9+4\n",
      "\u001b[32m\u001b[1m   Installed\u001b[22m\u001b[39m AxisAlgorithms ────────────── v1.0.1\n",
      "\u001b[32m\u001b[1m   Installed\u001b[22m\u001b[39m Requires ──────────────────── v1.3.0\n",
      "\u001b[32m\u001b[1m   Installed\u001b[22m\u001b[39m Xorg_libXdmcp_jll ─────────── v1.1.3+4\n",
      "\u001b[32m\u001b[1m   Installed\u001b[22m\u001b[39m WoodburyMatrices ──────────── v0.5.5\n",
      "\u001b[32m\u001b[1m   Installed\u001b[22m\u001b[39m SortingAlgorithms ─────────── v1.1.0\n",
      "\u001b[32m\u001b[1m   Installed\u001b[22m\u001b[39m Observables ───────────────── v0.5.4\n",
      "\u001b[32m\u001b[1m   Installed\u001b[22m\u001b[39m ChangesOfVariables ────────── v0.1.4\n",
      "\u001b[32m\u001b[1m   Installed\u001b[22m\u001b[39m GeoInterface ──────────────── v1.0.1\n",
      "\u001b[32m\u001b[1m   Installed\u001b[22m\u001b[39m Distributions ─────────────── v0.25.79\n",
      "\u001b[32m\u001b[1m   Installed\u001b[22m\u001b[39m DensityInterface ──────────── v0.4.0\n",
      "\u001b[32m\u001b[1m   Installed\u001b[22m\u001b[39m WidgetsBase ───────────────── v0.1.4\n",
      "\u001b[32m\u001b[1m   Installed\u001b[22m\u001b[39m Makie ─────────────────────── v0.19.1\n",
      "\u001b[32m\u001b[1m    Updating\u001b[22m\u001b[39m `~/.julia/environments/v1.8/Project.toml`\n",
      " \u001b[90m [276b4fcb] \u001b[39m\u001b[92m+ WGLMakie v0.8.5\u001b[39m\n",
      "\u001b[32m\u001b[1m    Updating\u001b[22m\u001b[39m `~/.julia/environments/v1.8/Manifest.toml`\n",
      " \u001b[90m [621f4979] \u001b[39m\u001b[92m+ AbstractFFTs v1.2.1\u001b[39m\n",
      " \u001b[90m [1520ce14] \u001b[39m\u001b[92m+ AbstractTrees v0.4.3\u001b[39m\n",
      " \u001b[90m [79e6a3ab] \u001b[39m\u001b[92m+ Adapt v3.4.0\u001b[39m\n",
      " \u001b[90m [27a7e980] \u001b[39m\u001b[92m+ Animations v0.4.1\u001b[39m\n",
      " \u001b[90m [67c07d97] \u001b[39m\u001b[92m+ Automa v0.8.2\u001b[39m\n",
      " \u001b[90m [13072b0f] \u001b[39m\u001b[92m+ AxisAlgorithms v1.0.1\u001b[39m\n",
      " \u001b[90m [39de3d68] \u001b[39m\u001b[92m+ AxisArrays v0.4.6\u001b[39m\n",
      " \u001b[90m [d1d4a3ce] \u001b[39m\u001b[92m+ BitFlags v0.1.7\u001b[39m\n",
      " \u001b[90m [fa961155] \u001b[39m\u001b[92m+ CEnum v0.4.2\u001b[39m\n",
      " \u001b[90m [49dc2e85] \u001b[39m\u001b[92m+ Calculus v0.5.1\u001b[39m\n",
      " \u001b[90m [d360d2e6] \u001b[39m\u001b[92m+ ChainRulesCore v1.15.6\u001b[39m\n",
      " \u001b[90m [9e997f8a] \u001b[39m\u001b[92m+ ChangesOfVariables v0.1.4\u001b[39m\n",
      " \u001b[90m [944b1d66] \u001b[39m\u001b[92m+ CodecZlib v0.7.0\u001b[39m\n",
      " \u001b[90m [a2cac450] \u001b[39m\u001b[92m+ ColorBrewer v0.4.0\u001b[39m\n",
      " \u001b[90m [35d6a980] \u001b[39m\u001b[92m+ ColorSchemes v3.20.0\u001b[39m\n",
      " \u001b[90m [3da002f7] \u001b[39m\u001b[92m+ ColorTypes v0.11.4\u001b[39m\n",
      " \u001b[90m [c3611d14] \u001b[39m\u001b[92m+ ColorVectorSpace v0.9.10\u001b[39m\n",
      " \u001b[90m [5ae59095] \u001b[39m\u001b[92m+ Colors v0.12.10\u001b[39m\n",
      " \u001b[90m [34da2185] \u001b[39m\u001b[92m+ Compat v4.5.0\u001b[39m\n",
      " \u001b[90m [187b0558] \u001b[39m\u001b[92m+ ConstructionBase v1.4.1\u001b[39m\n",
      " \u001b[90m [d38c429a] \u001b[39m\u001b[92m+ Contour v0.6.2\u001b[39m\n",
      " \u001b[90m [9a962f9c] \u001b[39m\u001b[92m+ DataAPI v1.14.0\u001b[39m\n",
      " \u001b[90m [864edb3b] \u001b[39m\u001b[92m+ DataStructures v0.18.13\u001b[39m\n",
      " \u001b[90m [e2d170a0] \u001b[39m\u001b[92m+ DataValueInterfaces v1.0.0\u001b[39m\n",
      " \u001b[90m [b429d917] \u001b[39m\u001b[92m+ DensityInterface v0.4.0\u001b[39m\n",
      " \u001b[90m [31c24e10] \u001b[39m\u001b[92m+ Distributions v0.25.79\u001b[39m\n",
      " \u001b[90m [ffbed154] \u001b[39m\u001b[92m+ DocStringExtensions v0.9.3\u001b[39m\n",
      " \u001b[90m [fa6b7ba4] \u001b[39m\u001b[92m+ DualNumbers v0.6.8\u001b[39m\n",
      " \u001b[90m [411431e0] \u001b[39m\u001b[92m+ Extents v0.1.1\u001b[39m\n",
      " \u001b[90m [c87230d0] \u001b[39m\u001b[92m+ FFMPEG v0.4.1\u001b[39m\n",
      " \u001b[90m [7a1cc6ca] \u001b[39m\u001b[92m+ FFTW v1.5.0\u001b[39m\n",
      " \u001b[90m [5789e2e9] \u001b[39m\u001b[92m+ FileIO v1.16.0\u001b[39m\n",
      " \u001b[90m [1a297f60] \u001b[39m\u001b[92m+ FillArrays v0.13.6\u001b[39m\n",
      " \u001b[90m [53c48c17] \u001b[39m\u001b[92m+ FixedPointNumbers v0.8.4\u001b[39m\n",
      " \u001b[90m [59287772] \u001b[39m\u001b[92m+ Formatting v0.4.2\u001b[39m\n",
      " \u001b[90m [b38be410] \u001b[39m\u001b[92m+ FreeType v4.0.0\u001b[39m\n",
      " \u001b[90m [663a7486] \u001b[39m\u001b[92m+ FreeTypeAbstraction v0.10.0\u001b[39m\n",
      " \u001b[90m [46192b85] \u001b[39m\u001b[92m+ GPUArraysCore v0.1.2\u001b[39m\n",
      " \u001b[90m [cf35fbd7] \u001b[39m\u001b[92m+ GeoInterface v1.0.1\u001b[39m\n",
      " \u001b[90m [5c1252a2] \u001b[39m\u001b[92m+ GeometryBasics v0.4.5\u001b[39m\n",
      " \u001b[90m [a2bd30eb] \u001b[39m\u001b[92m+ Graphics v1.1.2\u001b[39m\n",
      " \u001b[90m [3955a311] \u001b[39m\u001b[92m+ GridLayoutBase v0.9.1\u001b[39m\n",
      " \u001b[90m [42e2da0e] \u001b[39m\u001b[92m+ Grisu v1.0.2\u001b[39m\n",
      " \u001b[90m [cd3eb016] \u001b[39m\u001b[92m+ HTTP v1.6.3\u001b[39m\n",
      " \u001b[90m [34004b35] \u001b[39m\u001b[92m+ HypergeometricFunctions v0.3.11\u001b[39m\n",
      " \u001b[90m [47d2ed2b] \u001b[39m\u001b[92m+ Hyperscript v0.0.4\u001b[39m\n",
      " \u001b[90m [2803e5a7] \u001b[39m\u001b[92m+ ImageAxes v0.6.10\u001b[39m\n",
      " \u001b[90m [c817782e] \u001b[39m\u001b[92m+ ImageBase v0.1.5\u001b[39m\n",
      " \u001b[90m [a09fc81d] \u001b[39m\u001b[92m+ ImageCore v0.9.4\u001b[39m\n",
      " \u001b[90m [82e4d734] \u001b[39m\u001b[92m+ ImageIO v0.6.6\u001b[39m\n",
      "\u001b[32m⌃\u001b[39m\u001b[90m [6218d12a] \u001b[39m\u001b[92m+ ImageMagick v1.2.1\u001b[39m\n",
      " \u001b[90m [bc367c6b] \u001b[39m\u001b[92m+ ImageMetadata v0.9.8\u001b[39m\n",
      " \u001b[90m [9b13fd28] \u001b[39m\u001b[92m+ IndirectArrays v1.0.0\u001b[39m\n",
      " \u001b[90m [d25df0c9] \u001b[39m\u001b[92m+ Inflate v0.1.3\u001b[39m\n",
      " \u001b[90m [83e8ac13] \u001b[39m\u001b[92m+ IniFile v0.5.1\u001b[39m\n",
      " \u001b[90m [a98d9a8b] \u001b[39m\u001b[92m+ Interpolations v0.14.7\u001b[39m\n",
      " \u001b[90m [8197267c] \u001b[39m\u001b[92m+ IntervalSets v0.7.4\u001b[39m\n",
      " \u001b[90m [3587e190] \u001b[39m\u001b[92m+ InverseFunctions v0.1.8\u001b[39m\n",
      " \u001b[90m [92d709cd] \u001b[39m\u001b[92m+ IrrationalConstants v0.1.1\u001b[39m\n",
      " \u001b[90m [f1662d9f] \u001b[39m\u001b[92m+ Isoband v0.1.1\u001b[39m\n",
      " \u001b[90m [c8e1da08] \u001b[39m\u001b[92m+ IterTools v1.4.0\u001b[39m\n",
      " \u001b[90m [82899510] \u001b[39m\u001b[92m+ IteratorInterfaceExtensions v1.0.0\u001b[39m\n",
      " \u001b[90m [824d6782] \u001b[39m\u001b[92m+ JSServe v2.0.6\u001b[39m\n",
      " \u001b[90m [b835a17e] \u001b[39m\u001b[92m+ JpegTurbo v0.1.1\u001b[39m\n",
      " \u001b[90m [5ab0869b] \u001b[39m\u001b[92m+ KernelDensity v0.6.5\u001b[39m\n",
      " \u001b[90m [b964fa9f] \u001b[39m\u001b[92m+ LaTeXStrings v1.3.0\u001b[39m\n",
      " \u001b[90m [8cdb02fc] \u001b[39m\u001b[92m+ LazyModules v0.3.1\u001b[39m\n",
      " \u001b[90m [2ab3a3ac] \u001b[39m\u001b[92m+ LogExpFunctions v0.3.19\u001b[39m\n",
      " \u001b[90m [e6f89c97] \u001b[39m\u001b[92m+ LoggingExtras v1.0.0\u001b[39m\n",
      " \u001b[90m [1914dd2f] \u001b[39m\u001b[92m+ MacroTools v0.5.10\u001b[39m\n",
      " \u001b[90m [ee78f7c6] \u001b[39m\u001b[92m+ Makie v0.19.1\u001b[39m\n",
      " \u001b[90m [20f20a25] \u001b[39m\u001b[92m+ MakieCore v0.6.1\u001b[39m\n",
      " \u001b[90m [dbb5928d] \u001b[39m\u001b[92m+ MappedArrays v0.4.1\u001b[39m\n",
      " \u001b[90m [7eb4fadd] \u001b[39m\u001b[92m+ Match v1.2.0\u001b[39m\n",
      " \u001b[90m [0a4f8689] \u001b[39m\u001b[92m+ MathTeXEngine v0.5.4\u001b[39m\n",
      " \u001b[90m [978d7f02] \u001b[39m\u001b[92m+ MiniQhull v0.4.0\u001b[39m\n",
      " \u001b[90m [e1d29d7a] \u001b[39m\u001b[92m+ Missings v1.1.0\u001b[39m\n",
      " \u001b[90m [e94cdb99] \u001b[39m\u001b[92m+ MosaicViews v0.3.4\u001b[39m\n",
      " \u001b[90m [99f44e22] \u001b[39m\u001b[92m+ MsgPack v1.1.0\u001b[39m\n",
      " \u001b[90m [77ba4419] \u001b[39m\u001b[92m+ NaNMath v1.0.1\u001b[39m\n",
      " \u001b[90m [f09324ee] \u001b[39m\u001b[92m+ Netpbm v1.1.0\u001b[39m\n",
      " \u001b[90m [510215fc] \u001b[39m\u001b[92m+ Observables v0.5.4\u001b[39m\n",
      " \u001b[90m [6fe1bfb0] \u001b[39m\u001b[92m+ OffsetArrays v1.12.8\u001b[39m\n",
      " \u001b[90m [52e1d378] \u001b[39m\u001b[92m+ OpenEXR v0.3.2\u001b[39m\n",
      " \u001b[90m [4d8831e6] \u001b[39m\u001b[92m+ OpenSSL v1.3.2\u001b[39m\n",
      " \u001b[90m [bac558e1] \u001b[39m\u001b[92m+ OrderedCollections v1.4.1\u001b[39m\n",
      " \u001b[90m [90014a1f] \u001b[39m\u001b[92m+ PDMats v0.11.16\u001b[39m\n",
      " \u001b[90m [f57f5aa1] \u001b[39m\u001b[92m+ PNGFiles v0.3.17\u001b[39m\n",
      " \u001b[90m [19eb6ba3] \u001b[39m\u001b[92m+ Packing v0.5.0\u001b[39m\n",
      " \u001b[90m [5432bcbf] \u001b[39m\u001b[92m+ PaddedViews v0.5.11\u001b[39m\n",
      " \u001b[90m [eebad327] \u001b[39m\u001b[92m+ PkgVersion v0.3.2\u001b[39m\n",
      " \u001b[90m [995b91a9] \u001b[39m\u001b[92m+ PlotUtils v1.3.2\u001b[39m\n",
      " \u001b[90m [647866c9] \u001b[39m\u001b[92m+ PolygonOps v0.1.2\u001b[39m\n",
      " \u001b[90m [92933f4c] \u001b[39m\u001b[92m+ ProgressMeter v1.7.2\u001b[39m\n",
      " \u001b[90m [4b34888f] \u001b[39m\u001b[92m+ QOI v1.0.0\u001b[39m\n",
      " \u001b[90m [1fd47b50] \u001b[39m\u001b[92m+ QuadGK v2.6.0\u001b[39m\n",
      " \u001b[90m [b3c3ace0] \u001b[39m\u001b[92m+ RangeArrays v0.3.2\u001b[39m\n",
      " \u001b[90m [c84ed2f1] \u001b[39m\u001b[92m+ Ratios v0.4.3\u001b[39m\n",
      " \u001b[90m [189a3867] \u001b[39m\u001b[92m+ Reexport v1.2.2\u001b[39m\n",
      " \u001b[90m [05181044] \u001b[39m\u001b[92m+ RelocatableFolders v1.0.0\u001b[39m\n",
      " \u001b[90m [ae029012] \u001b[39m\u001b[92m+ Requires v1.3.0\u001b[39m\n",
      " \u001b[90m [79098fc4] \u001b[39m\u001b[92m+ Rmath v0.7.0\u001b[39m\n",
      " \u001b[90m [fdea26ae] \u001b[39m\u001b[92m+ SIMD v3.4.3\u001b[39m\n",
      " \u001b[90m [7b38b023] \u001b[39m\u001b[92m+ ScanByte v0.3.3\u001b[39m\n",
      " \u001b[90m [6c6a2e73] \u001b[39m\u001b[92m+ Scratch v1.1.1\u001b[39m\n",
      " \u001b[90m [efcf1570] \u001b[39m\u001b[92m+ Setfield v1.1.1\u001b[39m\n",
      " \u001b[90m [65257c39] \u001b[39m\u001b[92m+ ShaderAbstractions v0.2.9\u001b[39m\n",
      " \u001b[90m [992d4aef] \u001b[39m\u001b[92m+ Showoff v1.0.3\u001b[39m\n",
      " \u001b[90m [73760f76] \u001b[39m\u001b[92m+ SignedDistanceFields v0.4.0\u001b[39m\n",
      " \u001b[90m [777ac1f9] \u001b[39m\u001b[92m+ SimpleBufferStream v1.1.0\u001b[39m\n",
      " \u001b[90m [699a6c99] \u001b[39m\u001b[92m+ SimpleTraits v0.9.4\u001b[39m\n",
      " \u001b[90m [45858cf5] \u001b[39m\u001b[92m+ Sixel v0.1.2\u001b[39m\n",
      " \u001b[90m [a2af1166] \u001b[39m\u001b[92m+ SortingAlgorithms v1.1.0\u001b[39m\n",
      " \u001b[90m [276daf66] \u001b[39m\u001b[92m+ SpecialFunctions v2.1.7\u001b[39m\n",
      " \u001b[90m [c5dd0088] \u001b[39m\u001b[92m+ StableHashTraits v0.3.1\u001b[39m\n",
      " \u001b[90m [cae243ae] \u001b[39m\u001b[92m+ StackViews v0.1.1\u001b[39m\n",
      " \u001b[90m [90137ffa] \u001b[39m\u001b[92m+ StaticArrays v1.5.12\u001b[39m\n",
      " \u001b[90m [1e83bf80] \u001b[39m\u001b[92m+ StaticArraysCore v1.4.0\u001b[39m\n",
      " \u001b[90m [82ae8749] \u001b[39m\u001b[92m+ StatsAPI v1.5.0\u001b[39m\n",
      " \u001b[90m [2913bbd2] \u001b[39m\u001b[92m+ StatsBase v0.33.21\u001b[39m\n",
      " \u001b[90m [4c63d2b9] \u001b[39m\u001b[92m+ StatsFuns v1.1.1\u001b[39m\n",
      " \u001b[90m [09ab397b] \u001b[39m\u001b[92m+ StructArrays v0.6.14\u001b[39m\n",
      " \u001b[90m [3783bdb8] \u001b[39m\u001b[92m+ TableTraits v1.0.1\u001b[39m\n",
      " \u001b[90m [bd369af6] \u001b[39m\u001b[92m+ Tables v1.10.0\u001b[39m\n",
      " \u001b[90m [62fd8b95] \u001b[39m\u001b[92m+ TensorCore v0.1.1\u001b[39m\n",
      " \u001b[90m [731e570b] \u001b[39m\u001b[92m+ TiffImages v0.6.3\u001b[39m\n",
      " \u001b[90m [3bb67fe8] \u001b[39m\u001b[92m+ TranscodingStreams v0.9.11\u001b[39m\n",
      " \u001b[90m [981d1d27] \u001b[39m\u001b[92m+ TriplotBase v0.1.0\u001b[39m\n",
      " \u001b[90m [9d95972d] \u001b[39m\u001b[92m+ TupleTools v1.3.0\u001b[39m\n",
      " \u001b[90m [5c2747f8] \u001b[39m\u001b[92m+ URIs v1.4.1\u001b[39m\n",
      " \u001b[90m [1cfade01] \u001b[39m\u001b[92m+ UnicodeFun v0.4.1\u001b[39m\n",
      " \u001b[90m [276b4fcb] \u001b[39m\u001b[92m+ WGLMakie v0.8.5\u001b[39m\n",
      " \u001b[90m [eead4739] \u001b[39m\u001b[92m+ WidgetsBase v0.1.4\u001b[39m\n",
      " \u001b[90m [efce3f68] \u001b[39m\u001b[92m+ WoodburyMatrices v0.5.5\u001b[39m\n",
      " \u001b[90m [6e34b625] \u001b[39m\u001b[92m+ Bzip2_jll v1.0.8+0\u001b[39m\n",
      " \u001b[90m [83423d85] \u001b[39m\u001b[92m+ Cairo_jll v1.16.1+1\u001b[39m\n",
      " \u001b[90m [04572ae6] \u001b[39m\u001b[92m+ Deno_jll v1.28.1+0\u001b[39m\n",
      " \u001b[90m [5ae413db] \u001b[39m\u001b[92m+ EarCut_jll v2.2.4+0\u001b[39m\n",
      " \u001b[90m [2e619515] \u001b[39m\u001b[92m+ Expat_jll v2.4.8+0\u001b[39m\n",
      " \u001b[90m [b22a6f82] \u001b[39m\u001b[92m+ FFMPEG_jll v4.4.2+2\u001b[39m\n",
      " \u001b[90m [f5851436] \u001b[39m\u001b[92m+ FFTW_jll v3.3.10+0\u001b[39m\n",
      " \u001b[90m [a3f928ae] \u001b[39m\u001b[92m+ Fontconfig_jll v2.13.93+0\u001b[39m\n",
      " \u001b[90m [d7e528f0] \u001b[39m\u001b[92m+ FreeType2_jll v2.10.4+0\u001b[39m\n",
      " \u001b[90m [559328eb] \u001b[39m\u001b[92m+ FriBidi_jll v1.0.10+0\u001b[39m\n",
      " \u001b[90m [78b55507] \u001b[39m\u001b[92m+ Gettext_jll v0.21.0+0\u001b[39m\n",
      " \u001b[90m [61579ee1] \u001b[39m\u001b[92m+ Ghostscript_jll v9.55.0+0\u001b[39m\n",
      " \u001b[90m [7746bdde] \u001b[39m\u001b[92m+ Glib_jll v2.74.0+2\u001b[39m\n",
      " \u001b[90m [3b182d85] \u001b[39m\u001b[92m+ Graphite2_jll v1.3.14+0\u001b[39m\n",
      " \u001b[90m [2e76f6c2] \u001b[39m\u001b[92m+ HarfBuzz_jll v2.8.1+1\u001b[39m\n",
      " \u001b[90m [c73af94c] \u001b[39m\u001b[92m+ ImageMagick_jll v6.9.12+3\u001b[39m\n",
      " \u001b[90m [905a6f67] \u001b[39m\u001b[92m+ Imath_jll v3.1.2+0\u001b[39m\n",
      " \u001b[90m [1d5cc7b8] \u001b[39m\u001b[92m+ IntelOpenMP_jll v2018.0.3+2\u001b[39m\n",
      " \u001b[90m [aacddb02] \u001b[39m\u001b[92m+ JpegTurbo_jll v2.1.2+0\u001b[39m\n",
      " \u001b[90m [c1c5ebd0] \u001b[39m\u001b[92m+ LAME_jll v3.100.1+0\u001b[39m\n",
      " \u001b[90m [88015f11] \u001b[39m\u001b[92m+ LERC_jll v3.0.0+1\u001b[39m\n",
      " \u001b[90m [dd4b983a] \u001b[39m\u001b[92m+ LZO_jll v2.10.1+0\u001b[39m\n",
      "\u001b[33m⌅\u001b[39m\u001b[90m [e9f186c6] \u001b[39m\u001b[92m+ Libffi_jll v3.2.2+1\u001b[39m\n",
      " \u001b[90m [d4300ac3] \u001b[39m\u001b[92m+ Libgcrypt_jll v1.8.7+0\u001b[39m\n",
      " \u001b[90m [7add5ba3] \u001b[39m\u001b[92m+ Libgpg_error_jll v1.42.0+0\u001b[39m\n",
      " \u001b[90m [94ce4f54] \u001b[39m\u001b[92m+ Libiconv_jll v1.16.1+2\u001b[39m\n",
      " \u001b[90m [4b2f31a3] \u001b[39m\u001b[92m+ Libmount_jll v2.35.0+0\u001b[39m\n",
      " \u001b[90m [89763e89] \u001b[39m\u001b[92m+ Libtiff_jll v4.4.0+0\u001b[39m\n",
      " \u001b[90m [38a345b3] \u001b[39m\u001b[92m+ Libuuid_jll v2.36.0+0\u001b[39m\n",
      " \u001b[90m [856f044c] \u001b[39m\u001b[92m+ MKL_jll v2022.2.0+0\u001b[39m\n",
      " \u001b[90m [e7412a2a] \u001b[39m\u001b[92m+ Ogg_jll v1.3.5+1\u001b[39m\n",
      " \u001b[90m [18a262bb] \u001b[39m\u001b[92m+ OpenEXR_jll v3.1.1+0\u001b[39m\n",
      " \u001b[90m [458c3c95] \u001b[39m\u001b[92m+ OpenSSL_jll v1.1.19+0\u001b[39m\n",
      " \u001b[90m [efe28fd5] \u001b[39m\u001b[92m+ OpenSpecFun_jll v0.5.5+0\u001b[39m\n",
      " \u001b[90m [91d4177d] \u001b[39m\u001b[92m+ Opus_jll v1.3.2+0\u001b[39m\n",
      " \u001b[90m [30392449] \u001b[39m\u001b[92m+ Pixman_jll v0.40.1+0\u001b[39m\n",
      " \u001b[90m [460c41e3] \u001b[39m\u001b[92m+ QhullMiniWrapper_jll v1.0.0+1\u001b[39m\n",
      "\u001b[33m⌅\u001b[39m\u001b[90m [784f63db] \u001b[39m\u001b[92m+ Qhull_jll v8.0.1001+0\u001b[39m\n",
      " \u001b[90m [f50d1b31] \u001b[39m\u001b[92m+ Rmath_jll v0.3.0+0\u001b[39m\n",
      " \u001b[90m [02c8fc9c] \u001b[39m\u001b[92m+ XML2_jll v2.10.3+0\u001b[39m\n",
      " \u001b[90m [aed1982a] \u001b[39m\u001b[92m+ XSLT_jll v1.1.34+0\u001b[39m\n",
      " \u001b[90m [4f6342f7] \u001b[39m\u001b[92m+ Xorg_libX11_jll v1.6.9+4\u001b[39m\n",
      " \u001b[90m [0c0b7dd1] \u001b[39m\u001b[92m+ Xorg_libXau_jll v1.0.9+4\u001b[39m\n",
      " \u001b[90m [a3789734] \u001b[39m\u001b[92m+ Xorg_libXdmcp_jll v1.1.3+4\u001b[39m\n",
      " \u001b[90m [1082639a] \u001b[39m\u001b[92m+ Xorg_libXext_jll v1.3.4+4\u001b[39m\n",
      " \u001b[90m [ea2f1a96] \u001b[39m\u001b[92m+ Xorg_libXrender_jll v0.9.10+4\u001b[39m\n",
      " \u001b[90m [14d82f49] \u001b[39m\u001b[92m+ Xorg_libpthread_stubs_jll v0.1.0+3\u001b[39m\n",
      " \u001b[90m [c7cfdc94] \u001b[39m\u001b[92m+ Xorg_libxcb_jll v1.13.0+3\u001b[39m\n",
      " \u001b[90m [c5fb5394] \u001b[39m\u001b[92m+ Xorg_xtrans_jll v1.4.0+3\u001b[39m\n",
      " \u001b[90m [3161d3a3] \u001b[39m\u001b[92m+ Zstd_jll v1.5.2+0\u001b[39m\n",
      " \u001b[90m [9a68df92] \u001b[39m\u001b[92m+ isoband_jll v0.2.3+0\u001b[39m\n",
      " \u001b[90m [a4ae2306] \u001b[39m\u001b[92m+ libaom_jll v3.4.0+0\u001b[39m\n",
      " \u001b[90m [0ac62f75] \u001b[39m\u001b[92m+ libass_jll v0.15.1+0\u001b[39m\n",
      " \u001b[90m [f638f0a6] \u001b[39m\u001b[92m+ libfdk_aac_jll v2.0.2+0\u001b[39m\n",
      " \u001b[90m [b53b4c65] \u001b[39m\u001b[92m+ libpng_jll v1.6.38+0\u001b[39m\n",
      " \u001b[90m [075b6546] \u001b[39m\u001b[92m+ libsixel_jll v1.10.3+0\u001b[39m\n",
      " \u001b[90m [f27f6e37] \u001b[39m\u001b[92m+ libvorbis_jll v1.3.7+1\u001b[39m\n",
      " \u001b[90m [1270edf5] \u001b[39m\u001b[92m+ x264_jll v2021.5.5+0\u001b[39m\n",
      " \u001b[90m [dfaa095f] \u001b[39m\u001b[92m+ x265_jll v3.5.0+0\u001b[39m\n",
      " \u001b[90m [8bf52ea8] \u001b[39m\u001b[92m+ CRC32c\u001b[39m\n",
      " \u001b[90m [8ba89e20] \u001b[39m\u001b[92m+ Distributed\u001b[39m\n",
      " \u001b[90m [9fa8497b] \u001b[39m\u001b[92m+ Future\u001b[39m\n",
      " \u001b[90m [4af54fe1] \u001b[39m\u001b[92m+ LazyArtifacts\u001b[39m\n",
      " \u001b[90m [37e2e46d] \u001b[39m\u001b[92m+ LinearAlgebra\u001b[39m\n",
      " \u001b[90m [1a1011a3] \u001b[39m\u001b[92m+ SharedArrays\u001b[39m\n",
      " \u001b[90m [2f01184e] \u001b[39m\u001b[92m+ SparseArrays\u001b[39m\n",
      " \u001b[90m [10745b16] \u001b[39m\u001b[92m+ Statistics\u001b[39m\n",
      " \u001b[90m [4607b0f0] \u001b[39m\u001b[92m+ SuiteSparse\u001b[39m\n",
      " \u001b[90m [e66e0078] \u001b[39m\u001b[92m+ CompilerSupportLibraries_jll v1.0.1+0\u001b[39m\n",
      " \u001b[90m [4536629a] \u001b[39m\u001b[92m+ OpenBLAS_jll v0.3.20+0\u001b[39m\n",
      " \u001b[90m [05823500] \u001b[39m\u001b[92m+ OpenLibm_jll v0.8.1+0\u001b[39m\n",
      " \u001b[90m [efcefdf7] \u001b[39m\u001b[92m+ PCRE2_jll v10.40.0+0\u001b[39m\n",
      " \u001b[90m [8e850b90] \u001b[39m\u001b[92m+ libblastrampoline_jll v5.1.1+0\u001b[39m\n",
      "\u001b[36m\u001b[1m        Info\u001b[22m\u001b[39m Packages marked with \u001b[32m⌃\u001b[39m and \u001b[33m⌅\u001b[39m have new versions available, but those with \u001b[33m⌅\u001b[39m are restricted by compatibility constraints from upgrading. To see why use `status --outdated -m`\n",
      "\u001b[32m\u001b[1mPrecompiling\u001b[22m\u001b[39m project...\n",
      "\u001b[32m  ✓ \u001b[39m\u001b[90mPolygonOps\u001b[39m\n",
      "\u001b[32m  ✓ \u001b[39m\u001b[90mIteratorInterfaceExtensions\u001b[39m\n",
      "\u001b[32m  ✓ \u001b[39m\u001b[90mRangeArrays\u001b[39m\n",
      "\u001b[32m  ✓ \u001b[39m\u001b[90mSignedDistanceFields\u001b[39m\n",
      "\u001b[32m  ✓ \u001b[39m\u001b[90mIndirectArrays\u001b[39m\n",
      "\u001b[32m  ✓ \u001b[39m\u001b[90mLaTeXStrings\u001b[39m\n",
      "\u001b[32m  ✓ \u001b[39m\u001b[90mTensorCore\u001b[39m\n",
      "\u001b[32m  ✓ \u001b[39m\u001b[90mStatsAPI\u001b[39m\n",
      "\u001b[32m  ✓ \u001b[39m\u001b[90mContour\u001b[39m\n",
      "\u001b[32m  ✓ \u001b[39m\u001b[90mCEnum\u001b[39m\n",
      "\u001b[32m  ✓ \u001b[39m\u001b[90mMatch\u001b[39m\n",
      "\u001b[32m  ✓ \u001b[39m\u001b[90mTriplotBase\u001b[39m\n",
      "\u001b[32m  ✓ \u001b[39m\u001b[90mCalculus\u001b[39m\n",
      "\u001b[32m  ✓ \u001b[39m\u001b[90mOpenLibm_jll\u001b[39m\n",
      "\u001b[32m  ✓ \u001b[39m\u001b[90mPDMats\u001b[39m\n",
      "\u001b[32m  ✓ \u001b[39m\u001b[90mInverseFunctions\u001b[39m\n",
      "\u001b[32m  ✓ \u001b[39m\u001b[90mCompilerSupportLibraries_jll\u001b[39m\n",
      "\u001b[32m  ✓ \u001b[39m\u001b[90mWoodburyMatrices\u001b[39m\n",
      "\u001b[32m  ✓ \u001b[39m\u001b[90mCompat\u001b[39m\n",
      "\u001b[32m  ✓ \u001b[39m\u001b[90mDataValueInterfaces\u001b[39m\n",
      "\u001b[32m  ✓ \u001b[39m\u001b[90mRequires\u001b[39m\n",
      "\u001b[32m  ✓ \u001b[39m\u001b[90mPkgVersion\u001b[39m\n",
      "\u001b[32m  ✓ \u001b[39m\u001b[90mIterTools\u001b[39m\n",
      "\u001b[32m  ✓ \u001b[39m\u001b[90mReexport\u001b[39m\n",
      "\u001b[32m  ✓ \u001b[39m\u001b[90mOrderedCollections\u001b[39m\n",
      "\u001b[32m  ✓ \u001b[39m\u001b[90mIniFile\u001b[39m\n",
      "\u001b[32m  ✓ \u001b[39m\u001b[90mGrisu\u001b[39m\n",
      "\u001b[32m  ✓ \u001b[39m\u001b[90mDocStringExtensions\u001b[39m\n",
      "\u001b[32m  ✓ \u001b[39m\u001b[90mObservables\u001b[39m\n",
      "\u001b[32m  ✓ \u001b[39m\u001b[90mSimpleBufferStream\u001b[39m\n",
      "\u001b[32m  ✓ \u001b[39m\u001b[90mIntervalSets\u001b[39m\n",
      "\u001b[32m  ✓ \u001b[39m\u001b[90mAbstractTrees\u001b[39m\n",
      "\u001b[32m  ✓ \u001b[39m\u001b[90mFillArrays\u001b[39m\n",
      "\u001b[32m  ✓ \u001b[39m\u001b[90mExtents\u001b[39m\n",
      "\u001b[32m  ✓ \u001b[39m\u001b[90mPCRE2_jll\u001b[39m\n",
      "\u001b[32m  ✓ \u001b[39m\u001b[90mURIs\u001b[39m\n",
      "\u001b[32m  ✓ \u001b[39m\u001b[90mHyperscript\u001b[39m\n",
      "\u001b[32m  ✓ \u001b[39m\u001b[90mFormatting\u001b[39m\n",
      "\u001b[32m  ✓ \u001b[39m\u001b[90mLazyModules\u001b[39m\n",
      "\u001b[32m  ✓ \u001b[39m\u001b[90mProgressMeter\u001b[39m\n",
      "\u001b[32m  ✓ \u001b[39m\u001b[90mIrrationalConstants\u001b[39m\n",
      "\u001b[32m  ✓ \u001b[39m\u001b[90mMsgPack\u001b[39m\n",
      "\u001b[32m  ✓ \u001b[39m\u001b[90mInflate\u001b[39m\n",
      "\u001b[32m  ✓ \u001b[39m\u001b[90mUnicodeFun\u001b[39m\n",
      "\u001b[32m  ✓ \u001b[39m\u001b[90mFixedPointNumbers\u001b[39m\n",
      "\u001b[32m  ✓ \u001b[39m\u001b[90mConstructionBase\u001b[39m\n",
      "\u001b[32m  ✓ \u001b[39m\u001b[90mScratch\u001b[39m\n",
      "\u001b[32m  ✓ \u001b[39m\u001b[90mBitFlags\u001b[39m\n",
      "\u001b[32m  ✓ \u001b[39m\u001b[90mDataAPI\u001b[39m\n",
      "\u001b[32m  ✓ \u001b[39m\u001b[90mAdapt\u001b[39m\n",
      "\u001b[32m  ✓ \u001b[39m\u001b[90mTranscodingStreams\u001b[39m\n",
      "\u001b[32m  ✓ \u001b[39m\u001b[90mStaticArraysCore\u001b[39m\n",
      "\u001b[32m  ✓ \u001b[39m\u001b[90mTupleTools\u001b[39m\n",
      "\u001b[32m  ✓ \u001b[39m\u001b[90mMappedArrays\u001b[39m\n",
      "\u001b[32m  ✓ \u001b[39m\u001b[90mLoggingExtras\u001b[39m\n",
      "\u001b[32m  ✓ \u001b[39m\u001b[90mOpenSSL_jll\u001b[39m\n",
      "\u001b[32m  ✓ \u001b[39m\u001b[90mQhull_jll\u001b[39m\n",
      "\u001b[32m  ✓ \u001b[39m\u001b[90mGraphite2_jll\u001b[39m\n",
      "\u001b[32m  ✓ \u001b[39m\u001b[90mRmath_jll\u001b[39m\n",
      "\u001b[32m  ✓ \u001b[39m\u001b[90mMacroTools\u001b[39m\n",
      "\u001b[32m  ✓ \u001b[39m\u001b[90mBzip2_jll\u001b[39m\n",
      "\u001b[32m  ✓ \u001b[39m\u001b[90mlibpng_jll\u001b[39m\n",
      "\u001b[32m  ✓ \u001b[39m\u001b[90mLibmount_jll\u001b[39m\n",
      "\u001b[32m  ✓ \u001b[39m\u001b[90mXorg_libXau_jll\u001b[39m\n",
      "\u001b[32m  ✓ \u001b[39m\u001b[90mImath_jll\u001b[39m\n",
      "\u001b[32m  ✓ \u001b[39m\u001b[90mlibfdk_aac_jll\u001b[39m\n",
      "\u001b[32m  ✓ \u001b[39m\u001b[90mGhostscript_jll\u001b[39m\n",
      "\u001b[32m  ✓ \u001b[39m\u001b[90mIntelOpenMP_jll\u001b[39m\n",
      "\u001b[32m  ✓ \u001b[39m\u001b[90mDeno_jll\u001b[39m\n",
      "\u001b[32m  ✓ \u001b[39m\u001b[90mPixman_jll\u001b[39m\n",
      "\u001b[32m  ✓ \u001b[39m\u001b[90mLAME_jll\u001b[39m\n",
      "\u001b[32m  ✓ \u001b[39m\u001b[90mLERC_jll\u001b[39m\n",
      "\u001b[32m  ✓ \u001b[39m\u001b[90mEarCut_jll\u001b[39m\n",
      "\u001b[32m  ✓ \u001b[39m\u001b[90mOgg_jll\u001b[39m\n",
      "\u001b[32m  ✓ \u001b[39m\u001b[90mXorg_libXdmcp_jll\u001b[39m\n",
      "\u001b[32m  ✓ \u001b[39m\u001b[90mJpegTurbo_jll\u001b[39m\n",
      "\u001b[32m  ✓ \u001b[39m\u001b[90mx265_jll\u001b[39m\n",
      "\u001b[32m  ✓ \u001b[39m\u001b[90mExpat_jll\u001b[39m\n",
      "\u001b[32m  ✓ \u001b[39m\u001b[90mx264_jll\u001b[39m\n",
      "\u001b[32m  ✓ \u001b[39m\u001b[90mlibaom_jll\u001b[39m\n",
      "\u001b[32m  ✓ \u001b[39m\u001b[90mOpus_jll\u001b[39m\n",
      "\u001b[32m  ✓ \u001b[39m\u001b[90mZstd_jll\u001b[39m\n",
      "\u001b[32m  ✓ \u001b[39m\u001b[90mLZO_jll\u001b[39m\n",
      "\u001b[32m  ✓ \u001b[39m\u001b[90mXorg_xtrans_jll\u001b[39m\n",
      "\u001b[32m  ✓ \u001b[39m\u001b[90mLibiconv_jll\u001b[39m\n",
      "\u001b[32m  ✓ \u001b[39m\u001b[90mLibgpg_error_jll\u001b[39m\n",
      "\u001b[32m  ✓ \u001b[39m\u001b[90mLibffi_jll\u001b[39m\n",
      "\u001b[32m  ✓ \u001b[39m\u001b[90misoband_jll\u001b[39m\n",
      "\u001b[32m  ✓ \u001b[39m\u001b[90mTableTraits\u001b[39m\n",
      "\u001b[32m  ✓ \u001b[39m\u001b[90mFFTW_jll\u001b[39m\n",
      "\u001b[32m  ✓ \u001b[39m\u001b[90mOpenBLAS_jll\u001b[39m\n",
      "\u001b[32m  ✓ \u001b[39m\u001b[90mFriBidi_jll\u001b[39m\n",
      "\u001b[32m  ✓ \u001b[39m\u001b[90mXorg_libpthread_stubs_jll\u001b[39m\n",
      "\u001b[32m  ✓ \u001b[39m\u001b[90mLibuuid_jll\u001b[39m\n",
      "\u001b[32m  ✓ \u001b[39m\u001b[90mNaNMath\u001b[39m\n",
      "\u001b[32m  ✓ \u001b[39m\u001b[90mAxisAlgorithms\u001b[39m\n",
      "\u001b[32m  ✓ \u001b[39m\u001b[90mOpenSpecFun_jll\u001b[39m\n",
      "\u001b[32m  ✓ \u001b[39m\u001b[90mDensityInterface\u001b[39m\n",
      "\u001b[32m  ✓ \u001b[39m\u001b[90mRatios\u001b[39m\n",
      "\u001b[32m  ✓ \u001b[39m\u001b[90mShowoff\u001b[39m\n",
      "\u001b[32m  ✓ \u001b[39m\u001b[90mWidgetsBase\u001b[39m\n",
      "\u001b[32m  ✓ \u001b[39m\u001b[90mRelocatableFolders\u001b[39m\n",
      "\u001b[32m  ✓ \u001b[39m\u001b[90mMissings\u001b[39m\n",
      "\u001b[32m  ✓ \u001b[39m\u001b[90mGPUArraysCore\u001b[39m\n",
      "\u001b[32m  ✓ \u001b[39m\u001b[90mCodecZlib\u001b[39m\n",
      "\u001b[32m  ✓ \u001b[39m\u001b[90mMakieCore\u001b[39m\n",
      "\u001b[32m  ✓ \u001b[39m\u001b[90mGeoInterface\u001b[39m\n",
      "\u001b[32m  ✓ \u001b[39m\u001b[90mQhullMiniWrapper_jll\u001b[39m\n",
      "\u001b[32m  ✓ \u001b[39m\u001b[90mAxisArrays\u001b[39m\n",
      "\u001b[32m  ✓ \u001b[39m\u001b[90mChainRulesCore\u001b[39m\n",
      "\u001b[32m  ✓ \u001b[39m\u001b[90mFreeType2_jll\u001b[39m\n",
      "\u001b[32m  ✓ \u001b[39m\u001b[90mOpenEXR_jll\u001b[39m\n",
      "\u001b[32m  ✓ \u001b[39m\u001b[90mMKL_jll\u001b[39m\n",
      "\u001b[32m  ✓ \u001b[39m\u001b[90mlibvorbis_jll\u001b[39m\n",
      "\u001b[32m  ✓ \u001b[39m\u001b[90mOffsetArrays\u001b[39m\n",
      "\u001b[32m  ✓ \u001b[39m\u001b[90mRmath\u001b[39m\n",
      "\u001b[32m  ✓ \u001b[39m\u001b[90mlibsixel_jll\u001b[39m\n",
      "\u001b[32m  ✓ \u001b[39m\u001b[90mLibtiff_jll\u001b[39m\n",
      "\u001b[32m  ✓ \u001b[39m\u001b[90mXML2_jll\u001b[39m\n",
      "\u001b[32m  ✓ \u001b[39m\u001b[90mLibgcrypt_jll\u001b[39m\n",
      "\u001b[32m  ✓ \u001b[39m\u001b[90mlibblastrampoline_jll\u001b[39m\n",
      "\u001b[32m  ✓ \u001b[39m\u001b[90mIsoband\u001b[39m\n",
      "\u001b[32m  ✓ \u001b[39m\u001b[90mSimpleTraits\u001b[39m\n",
      "\u001b[32m  ✓ \u001b[39m\u001b[90mMiniQhull\u001b[39m\n",
      "\u001b[32m  ✓ \u001b[39m\u001b[90mSetfield\u001b[39m\n",
      "\u001b[32m  ✓ \u001b[39m\u001b[90mAbstractFFTs\u001b[39m\n",
      "\u001b[32m  ✓ \u001b[39m\u001b[90mOpenSSL\u001b[39m\n",
      "\u001b[32m  ✓ \u001b[39m\u001b[90mTables\u001b[39m\n",
      "\u001b[32m  ✓ \u001b[39m\u001b[90mChangesOfVariables\u001b[39m\n",
      "\u001b[32m  ✓ \u001b[39m\u001b[90mStackViews\u001b[39m\n",
      "\u001b[32m  ✓ \u001b[39m\u001b[90mFontconfig_jll\u001b[39m\n",
      "\u001b[32m  ✓ \u001b[39m\u001b[90mFileIO\u001b[39m\n",
      "\u001b[32m  ✓ \u001b[39m\u001b[90mDataStructures\u001b[39m\n",
      "\u001b[32m  ✓ \u001b[39m\u001b[90mPaddedViews\u001b[39m\n",
      "\u001b[32m  ✓ \u001b[39m\u001b[90mImageMagick_jll\u001b[39m\n",
      "\u001b[32m  ✓ \u001b[39m\u001b[90mXSLT_jll\u001b[39m\n",
      "\u001b[32m  ✓ \u001b[39m\u001b[90mGettext_jll\u001b[39m\n",
      "\u001b[32m  ✓ \u001b[39m\u001b[90mFreeType\u001b[39m\n",
      "\u001b[32m  ✓ \u001b[39m\u001b[90mColorTypes\u001b[39m\n",
      "\u001b[32m  ✓ \u001b[39m\u001b[90mStableHashTraits\u001b[39m\n",
      "\u001b[32m  ✓ \u001b[39m\u001b[90mGlib_jll\u001b[39m\n",
      "\u001b[32m  ✓ \u001b[39m\u001b[90mSortingAlgorithms\u001b[39m\n",
      "\u001b[32m  ✓ \u001b[39m\u001b[90mXorg_libxcb_jll\u001b[39m\n",
      "\u001b[32m  ✓ \u001b[39m\u001b[90mStructArrays\u001b[39m\n",
      "\u001b[32m  ✓ \u001b[39m\u001b[90mMosaicViews\u001b[39m\n",
      "\u001b[32m  ✓ \u001b[39m\u001b[90mQuadGK\u001b[39m\n",
      "\u001b[32m  ✓ \u001b[39m\u001b[90mXorg_libX11_jll\u001b[39m\n",
      "\u001b[32m  ✓ \u001b[39m\u001b[90mLogExpFunctions\u001b[39m\n",
      "\u001b[32m  ✓ \u001b[39m\u001b[90mQOI\u001b[39m\n",
      "\u001b[32m  ✓ \u001b[39m\u001b[90mXorg_libXext_jll\u001b[39m\n",
      "\u001b[32m  ✓ \u001b[39m\u001b[90mXorg_libXrender_jll\u001b[39m\n",
      "\u001b[32m  ✓ \u001b[39m\u001b[90mCairo_jll\u001b[39m\n",
      "\u001b[32m  ✓ \u001b[39m\u001b[90mHarfBuzz_jll\u001b[39m\n",
      "\u001b[32m  ✓ \u001b[39m\u001b[90mHTTP\u001b[39m\n",
      "\u001b[32m  ✓ \u001b[39m\u001b[90mlibass_jll\u001b[39m\n",
      "\u001b[32m  ✓ \u001b[39m\u001b[90mStatsBase\u001b[39m\n",
      "\u001b[32m  ✓ \u001b[39m\u001b[90mFFTW\u001b[39m\n",
      "\u001b[32m  ✓ \u001b[39m\u001b[90mFFMPEG_jll\u001b[39m\n",
      "\u001b[32m  ✓ \u001b[39m\u001b[90mStaticArrays\u001b[39m\n",
      "\u001b[32m  ✓ \u001b[39m\u001b[90mColors\u001b[39m\n",
      "\u001b[32m  ✓ \u001b[39m\u001b[90mSIMD\u001b[39m\n",
      "\u001b[32m  ✓ \u001b[39m\u001b[90mFFMPEG\u001b[39m\n",
      "\u001b[32m  ✓ \u001b[39m\u001b[90mSpecialFunctions\u001b[39m\n",
      "\u001b[32m  ✓ \u001b[39m\u001b[90mScanByte\u001b[39m\n",
      "\u001b[32m  ✓ \u001b[39m\u001b[90mGraphics\u001b[39m\n",
      "\u001b[32m  ✓ \u001b[39m\u001b[90mAnimations\u001b[39m\n",
      "\u001b[32m  ✓ \u001b[39m\u001b[90mColorBrewer\u001b[39m\n",
      "\u001b[32m  ✓ \u001b[39m\u001b[90mOpenEXR\u001b[39m\n",
      "\u001b[32m  ✓ \u001b[39m\u001b[90mDualNumbers\u001b[39m\n",
      "\u001b[32m  ✓ \u001b[39m\u001b[90mAutoma\u001b[39m\n",
      "\u001b[32m  ✓ \u001b[39m\u001b[90mHypergeometricFunctions\u001b[39m\n",
      "\u001b[32m  ✓ \u001b[39m\u001b[90mInterpolations\u001b[39m\n",
      "\u001b[32m  ✓ \u001b[39m\u001b[90mColorVectorSpace\u001b[39m\n",
      "\u001b[32m  ✓ \u001b[39m\u001b[90mStatsFuns\u001b[39m\n",
      "\u001b[32m  ✓ \u001b[39m\u001b[90mJSServe\u001b[39m\n",
      "\u001b[32m  ✓ \u001b[39m\u001b[90mGeometryBasics\u001b[39m\n",
      "\u001b[32m  ✓ \u001b[39m\u001b[90mPacking\u001b[39m\n",
      "\u001b[32m  ✓ \u001b[39m\u001b[90mShaderAbstractions\u001b[39m\n",
      "\u001b[32m  ✓ \u001b[39m\u001b[90mColorSchemes\u001b[39m\n",
      "\u001b[32m  ✓ \u001b[39m\u001b[90mFreeTypeAbstraction\u001b[39m\n",
      "\u001b[32m  ✓ \u001b[39m\u001b[90mGridLayoutBase\u001b[39m\n",
      "\u001b[32m  ✓ \u001b[39m\u001b[90mDistributions\u001b[39m\n",
      "\u001b[32m  ✓ \u001b[39m\u001b[90mKernelDensity\u001b[39m\n",
      "\u001b[32m  ✓ \u001b[39m\u001b[90mPlotUtils\u001b[39m\n",
      "\u001b[32m  ✓ \u001b[39m\u001b[90mMathTeXEngine\u001b[39m\n",
      "\u001b[32m  ✓ \u001b[39m\u001b[90mTiffImages\u001b[39m\n",
      "\u001b[32m  ✓ \u001b[39m\u001b[90mImageCore\u001b[39m\n",
      "\u001b[32m  ✓ \u001b[39m\u001b[90mJpegTurbo\u001b[39m\n",
      "\u001b[32m  ✓ \u001b[39m\u001b[90mSixel\u001b[39m\n",
      "\u001b[32m  ✓ \u001b[39m\u001b[90mImageBase\u001b[39m\n",
      "\u001b[32m  ✓ \u001b[39m\u001b[90mImageMagick\u001b[39m\n",
      "\u001b[32m  ✓ \u001b[39m\u001b[90mPNGFiles\u001b[39m\n",
      "\u001b[32m  ✓ \u001b[39m\u001b[90mImageAxes\u001b[39m\n",
      "\u001b[32m  ✓ \u001b[39m\u001b[90mImageMetadata\u001b[39m\n",
      "\u001b[32m  ✓ \u001b[39m\u001b[90mNetpbm\u001b[39m\n",
      "\u001b[32m  ✓ \u001b[39m\u001b[90mImageIO\u001b[39m\n",
      "\u001b[32m  ✓ \u001b[39m\u001b[90mMakie\u001b[39m\n",
      "\u001b[32m  ✓ \u001b[39mWGLMakie\n",
      "  198 dependencies successfully precompiled in 224 seconds. 16 already precompiled.\n"
     ]
    }
   ],
   "source": [
    "]add WGLMakie # install package"
   ]
  },
  {
   "cell_type": "code",
   "execution_count": 63,
   "id": "musical-reunion",
   "metadata": {},
   "outputs": [],
   "source": [
    "using WGLMakie"
   ]
  },
  {
   "cell_type": "code",
   "execution_count": 70,
   "id": "fifteen-portuguese",
   "metadata": {},
   "outputs": [
    {
     "data": {
      "text/html": [
       "<div id=\"159ada5f-b0e8-4aaf-b0ef-dba59452dc4a\" data-jscall-id=\"jsserver-application-dom\">\n",
       "  <script data-jscall-id=\"14\" src=\"data:application/javascript;base64,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\" type=\"module\"></script>\n",
       "  <div data-jscall-id=\"12\">\n",
       "    <canvas data-jscall-id=\"11\" tabindex=\"0\"></canvas>\n",
       "  </div>\n",
       "</div>"
      ]
     },
     "execution_count": 70,
     "metadata": {},
     "output_type": "execute_result"
    }
   ],
   "source": [
    "# create a figure\n",
    "f = Figure()\n",
    "\n",
    "# axis\n",
    "Axis(f[1,1])\n",
    "xs = LinRange(0, π, 50) # from 0 to pi in 10 steps\n",
    "ys = sin.(xs) # sine function is applied element-wise\n",
    "lines!(xs, ys)\n",
    "f"
   ]
  },
  {
   "cell_type": "code",
   "execution_count": 71,
   "id": "sticky-auditor",
   "metadata": {},
   "outputs": [
    {
     "data": {
      "text/html": [
       "<div id=\"1736bc9a-194f-4aaf-9446-a412f520eeac\" data-jscall-id=\"jsserver-application-dom\">\n",
       "  <script data-jscall-id=\"18\" src=\"data:application/javascript;base64,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\" type=\"module\"></script>\n",
       "  <div data-jscall-id=\"16\">\n",
       "    <canvas data-jscall-id=\"15\" tabindex=\"0\"></canvas>\n",
       "  </div>\n",
       "</div>"
      ]
     },
     "execution_count": 71,
     "metadata": {},
     "output_type": "execute_result"
    }
   ],
   "source": [
    "# create a figure\n",
    "f = Figure()\n",
    "\n",
    "# axis\n",
    "Axis(f[1,1])\n",
    "xs = LinRange(0, π, 50) # from 0 to pi in 10 steps\n",
    "ys = sin.(xs) # sine function is applied element-wise\n",
    "scatter!(xs, ys)\n",
    "f"
   ]
  },
  {
   "cell_type": "code",
   "execution_count": 73,
   "id": "every-bronze",
   "metadata": {},
   "outputs": [
    {
     "data": {
      "text/html": [
       "<div id=\"9c965d3b-d202-4d1a-87d2-9b14812b9550\" data-jscall-id=\"jsserver-application-dom\">\n",
       "  <script data-jscall-id=\"22\" src=\"data:application/javascript;base64,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\" type=\"module\"></script>\n",
       "  <div data-jscall-id=\"20\">\n",
       "    <canvas data-jscall-id=\"19\" tabindex=\"0\"></canvas>\n",
       "  </div>\n",
       "</div>"
      ]
     },
     "execution_count": 73,
     "metadata": {},
     "output_type": "execute_result"
    }
   ],
   "source": [
    "# create a figure\n",
    "f = Figure()\n",
    "\n",
    "# axis\n",
    "Axis(f[1,1])\n",
    "xs = LinRange(0, π, 50) # from 0 to pi in 10 steps\n",
    "ys = sin.(xs) # sine function is applied element-wise\n",
    "linesegments!(xs, ys)\n",
    "f"
   ]
  },
  {
   "cell_type": "code",
   "execution_count": null,
   "id": "visible-parish",
   "metadata": {},
   "outputs": [],
   "source": []
  }
 ],
 "metadata": {
  "kernelspec": {
   "display_name": "Julia 1.8.4",
   "language": "julia",
   "name": "julia-1.8"
  },
  "language_info": {
   "file_extension": ".jl",
   "mimetype": "application/julia",
   "name": "julia",
   "version": "1.8.4"
  }
 },
 "nbformat": 4,
 "nbformat_minor": 5
}
